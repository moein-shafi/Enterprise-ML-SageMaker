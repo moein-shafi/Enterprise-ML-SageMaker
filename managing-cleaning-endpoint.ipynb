{
 "cells": [
  {
   "cell_type": "markdown",
   "id": "f6077bc9",
   "metadata": {},
   "source": [
    "# Managing and Cleaning Up Endpoints\n",
    "\n",
    "This lesson focuses on the essential management tasks that every SageMaker practitioner must master: checking endpoint status and configuration details, then properly cleaning up resources to avoid ongoing charges.\n",
    "\n",
    "This lesson will teach you two complementary approaches to endpoint management: `programmatic management` using Python and the SageMaker SDK, and `command-line management` using the AWS CLI. The Python approach provides detailed programmatic access that's ideal for automation and integration into larger workflows, while the AWS CLI offers quick, interactive commands perfect for manual inspection and cleanup tasks. By mastering both approaches, you'll have the flexibility to choose the most appropriate tool for each management scenario you encounter.\n"
   ]
  },
  {
   "cell_type": "markdown",
   "id": "1e18c1ce",
   "metadata": {},
   "source": [
    "## Checking Endpoint Status\n",
    "\n",
    "The following Python script demonstrates how to retrieve and display the status of all your SageMaker endpoints. This approach builds on the SageMaker session concepts you've used throughout previous lessons, but now focuses on management rather than deployment operations.\n",
    "\n"
   ]
  },
  {
   "cell_type": "code",
   "execution_count": null,
   "id": "56a81701",
   "metadata": {},
   "outputs": [],
   "source": [
    "import sagemaker\n",
    "\n",
    "# Create a SageMaker session \n",
    "sagemaker_session = sagemaker.Session()\n",
    "\n",
    "# Get list of all endpoints from SageMaker\n",
    "endpoints_response = sagemaker_session.sagemaker_client.list_endpoints()\n",
    "\n",
    "# Extract the endpoints array from the response\n",
    "endpoints = endpoints_response['Endpoints']\n",
    "\n",
    "# Print the name of each endpoint\n",
    "print(\"SageMaker Endpoints:\")\n",
    "for endpoint in endpoints:\n",
    "    print(f\"- {endpoint['EndpointName']} ({endpoint['EndpointStatus']})\")"
   ]
  },
  {
   "cell_type": "markdown",
   "id": "3bd435c1",
   "metadata": {},
   "source": [
    "The response contains an array of endpoint objects, each including much more data than just the endpoint name and current status shown in this example. Each endpoint object also contains the `EndpointArn`, `CreationTime`, `LastModifiedTime`, and other metadata that provides comprehensive information about your deployed resources.\n",
    "\n"
   ]
  },
  {
   "cell_type": "markdown",
   "id": "9c1bc129",
   "metadata": {},
   "source": [
    "### Checking Endpoint Status with AWS CLI\n",
    "\n",
    "The AWS CLI provides an equivalent command for quickly checking endpoint status from the command line. This approach is particularly useful for quick status checks or when working in environments where you prefer command-line tools over Python scripts.\n"
   ]
  },
  {
   "cell_type": "code",
   "execution_count": null,
   "id": "73e34562",
   "metadata": {},
   "outputs": [],
   "source": [
    "# List all SageMaker endpoints\n",
    "aws sagemaker list-endpoints"
   ]
  },
  {
   "cell_type": "markdown",
   "id": "901c05db",
   "metadata": {},
   "source": [
    "This command produces a JSON output that contains the same information as the Python approach, but in a format that's easy to read for manual inspection:\n",
    "\n",
    "\n",
    "```\n",
    "{\n",
    "    \"Endpoints\": [\n",
    "        {\n",
    "            \"EndpointName\": \"california-housing-modeltrainer\",\n",
    "            \"EndpointArn\": \"arn:aws:sagemaker:us-east-1:605926690821:endpoint/california-housing-modeltrainer\",\n",
    "            \"CreationTime\": \"2025-07-28T08:18:29.553000+00:00\",\n",
    "            \"LastModifiedTime\": \"2025-07-28T08:20:57.772000+00:00\",\n",
    "            \"EndpointStatus\": \"InService\"\n",
    "        },\n",
    "        {\n",
    "            \"EndpointName\": \"california-housing-estimator\",\n",
    "            \"EndpointArn\": \"arn:aws:sagemaker:us-east-1:605926690821:endpoint/california-housing-estimator\",\n",
    "            \"CreationTime\": \"2025-07-28T08:18:17.051000+00:00\",\n",
    "            \"LastModifiedTime\": \"2025-07-28T08:20:55.435000+00:00\",\n",
    "            \"EndpointStatus\": \"InService\"\n",
    "        },\n",
    "        ...\n",
    "    ]\n",
    "}\n",
    "```"
   ]
  },
  {
   "cell_type": "markdown",
   "id": "c60e527e",
   "metadata": {},
   "source": [
    "## Inspecting Endpoint Configuration Details\n",
    "\n",
    "Beyond basic status information, effective endpoint management requires understanding the detailed configuration of your deployed endpoints. This includes information about the underlying compute resources, scaling settings, and model configurations that determine how your endpoints operate and what they cost. "
   ]
  },
  {
   "cell_type": "code",
   "execution_count": null,
   "id": "6c7f972b",
   "metadata": {},
   "outputs": [],
   "source": [
    "import json\n",
    "\n",
    "# Iterate through each endpoint and get configuration details\n",
    "for endpoint in endpoints:\n",
    "    # Get endpoint name\n",
    "    endpoint_name = endpoint['EndpointName']\n",
    "    \n",
    "    # Display endpoint name\n",
    "    print(f\"Configuration for {endpoint_name}\")\n",
    "    \n",
    "    # Get endpoint details to retrieve the configuration name\n",
    "    endpoint_details = sagemaker_session.describe_endpoint(endpoint_name)\n",
    "\n",
    "    # Get endpoint configuration name\n",
    "    config_name = endpoint_details['EndpointConfigName']\n",
    "    \n",
    "    # Get endpoint configuration details\n",
    "    config_details = sagemaker_session.sagemaker_client.describe_endpoint_config(\n",
    "        EndpointConfigName=config_name\n",
    "    )\n",
    "    \n",
    "    # Display configuration as JSON\n",
    "    print(json.dumps(config_details, indent=2, default=str))"
   ]
  },
  {
   "cell_type": "markdown",
   "id": "9dd60d29",
   "metadata": {},
   "source": [
    "When you run this script, you'll see detailed output like this for each endpoint:\n",
    "\n",
    "\n",
    "```\n",
    "Configuration for california-housing-realtime\n",
    "{\n",
    "  \"EndpointConfigName\": \"california-housing-realtime\",\n",
    "  \"EndpointConfigArn\": \"arn:aws:sagemaker:us-east-1:605926690821:endpoint-config/california-housing-realtime\",\n",
    "  \"ProductionVariants\": [\n",
    "    {\n",
    "      \"VariantName\": \"AllTraffic\",\n",
    "      \"ModelName\": \"sagemaker-scikit-learn-2025-07-28-08-15-32-100\",\n",
    "      \"InitialInstanceCount\": 1,\n",
    "      \"InstanceType\": \"ml.m5.large\",\n",
    "      \"InitialVariantWeight\": 1.0\n",
    "    }\n",
    "  ],\n",
    "  \"CreationTime\": \"2025-07-28T08:15:33.670000+00:00\",\n",
    "  \"EnableNetworkIsolation\": false\n",
    "}\n",
    "```\n",
    "\n",
    "\n",
    "The configuration details reveal crucial information about how your endpoints are deployed. For serverless endpoints, you'll see `ServerlessConfig` sections that specify memory allocation and maximum concurrency settings. For real-time endpoints, you'll see `InitialInstanceCount` and `InstanceType` specifications that determine the persistent compute resources and their associated costs.\n",
    "\n"
   ]
  },
  {
   "cell_type": "code",
   "execution_count": null,
   "id": "ad651a50",
   "metadata": {},
   "outputs": [],
   "source": [
    "# Describe an endpoint\n",
    "aws sagemaker describe-endpoint --endpoint-name california-housing-realtime\n",
    "\n",
    "# Describe an endpoint config\n",
    "aws sagemaker describe-endpoint-config --endpoint-config-name california-housing-realtime"
   ]
  },
  {
   "cell_type": "markdown",
   "id": "b8554055",
   "metadata": {},
   "source": [
    "## Deleting Endpoints and Their Associated Resources\n",
    "\n",
    "\n",
    "When you no longer need an endpoint, you must delete both the endpoint itself and its associated endpoint configuration.\n",
    "\n",
    "Notice that the endpoint must be deleted before its configuration can be removed, as SageMaker prevents deletion of configurations that are still in use by active endpoints."
   ]
  },
  {
   "cell_type": "code",
   "execution_count": null,
   "id": "1cde4b3b",
   "metadata": {},
   "outputs": [],
   "source": [
    "# Name of the SageMaker endpoint we want to delete\n",
    "ENDPOINT_NAME = \"california-housing-local-model\"\n",
    "\n",
    "# Get endpoint details before deletion\n",
    "endpoint_details = sagemaker_session.describe_endpoint(ENDPOINT_NAME)\n",
    "\n",
    "# Retrieve the associated config name\n",
    "config_name = endpoint_details['EndpointConfigName']\n",
    "\n",
    "# Delete the endpoint first - this stops the running instances/serverless compute\n",
    "# The endpoint must be deleted before its configuration can be removed\n",
    "sagemaker_session.delete_endpoint(ENDPOINT_NAME)\n",
    "\n",
    "# Delete the endpoint configuration to avoid leaving orphaned configs\n",
    "# This removes the blueprint that defined the endpoint's compute resources\n",
    "sagemaker_session.delete_endpoint_config(config_name)"
   ]
  },
  {
   "cell_type": "code",
   "execution_count": null,
   "id": "2bddfe6b",
   "metadata": {},
   "outputs": [],
   "source": [
    "# Delete an endpoint\n",
    "aws sagemaker delete-endpoint --endpoint-name california-housing-realtime\n",
    "\n",
    "# Delete an endpoint config\n",
    "aws sagemaker delete-endpoint-config --endpoint-config-name california-housing-realtime"
   ]
  },
  {
   "cell_type": "markdown",
   "id": "ad2d96c7",
   "metadata": {},
   "source": []
  }
 ],
 "metadata": {
  "language_info": {
   "name": "python"
  }
 },
 "nbformat": 4,
 "nbformat_minor": 5
}
