{
 "cells": [
  {
   "cell_type": "markdown",
   "id": "be789635",
   "metadata": {},
   "source": [
    "# Serving Estimator Models with Serverless Endpoints"
   ]
  },
  {
   "cell_type": "markdown",
   "id": "e79d552e",
   "metadata": {},
   "source": [
    "## Retrieving and Attaching to a Completed Training Job\n"
   ]
  },
  {
   "cell_type": "code",
   "execution_count": null,
   "id": "3523c813",
   "metadata": {},
   "outputs": [],
   "source": [
    "import sagemaker\n",
    "from sagemaker.sklearn.estimator import SKLearn\n",
    "\n",
    "# Initialize SageMaker session\n",
    "sagemaker_session = sagemaker.Session()\n",
    "\n",
    "# List most recent completed training job\n",
    "training_jobs = sagemaker_session.sagemaker_client.list_training_jobs(\n",
    "    SortBy='CreationTime',                 # Sort jobs by creation time\n",
    "    SortOrder='Descending',                # Newest jobs first\n",
    "    StatusEquals='Completed',              # Only include completed jobs\n",
    "    NameContains='sagemaker-scikit-learn'  # Filter to sklearn estimator jobs\n",
    ")\n",
    "\n",
    "# Extract the name of the latest training job\n",
    "TRAINING_JOB_NAME = training_jobs['TrainingJobSummaries'][0]['TrainingJobName']"
   ]
  },
  {
   "cell_type": "code",
   "execution_count": null,
   "id": "311a2f18",
   "metadata": {},
   "outputs": [],
   "source": [
    "# Attach to existing training job\n",
    "estimator = SKLearn.attach(TRAINING_JOB_NAME)\n",
    "print(f\"Framework version: {estimator.framework_version}\")\n",
    "print(f\"Model data S3 location: {estimator.model_data}\")\n",
    "print(f\"Container image URI: {estimator.image_uri}\")\n"
   ]
  },
  {
   "cell_type": "markdown",
   "id": "f6b79da1",
   "metadata": {},
   "source": [
    "## Configuring Serverless Inference\n"
   ]
  },
  {
   "cell_type": "code",
   "execution_count": null,
   "id": "c782b20e",
   "metadata": {},
   "outputs": [],
   "source": [
    "from sagemaker.serverless import ServerlessInferenceConfig\n",
    "\n",
    "# Configure serverless inference\n",
    "serverless_config = ServerlessInferenceConfig(\n",
    "    memory_size_in_mb=2048,  # Memory allocation\n",
    "    max_concurrency=10       # Max concurrent requests\n",
    ")"
   ]
  },
  {
   "cell_type": "markdown",
   "id": "13a07740",
   "metadata": {},
   "source": [
    "## Deploying the Estimator to a Serverless Endpoint\n"
   ]
  },
  {
   "cell_type": "code",
   "execution_count": null,
   "id": "98b34e04",
   "metadata": {},
   "outputs": [],
   "source": [
    "# Configuration\n",
    "ENDPOINT_NAME = \"california-housing-estimator\"\n",
    "\n",
    "try:\n",
    "    # Deploy as serverless endpoint asynchronously\n",
    "    predictor = estimator.deploy(\n",
    "        serverless_inference_config=serverless_config,\n",
    "        endpoint_name=ENDPOINT_NAME,\n",
    "        wait=False\n",
    "    )\n",
    "\n",
    "    # Retrieve detailed information about the specified SageMaker endpoint\n",
    "    endpoint_description = sagemaker_session.sagemaker_client.describe_endpoint(EndpointName=ENDPOINT_NAME)\n",
    "\n",
    "    # Extract the current status of the endpoint from the response\n",
    "    status = endpoint_description['EndpointStatus']\n",
    "\n",
    "    # Display the endpoint's status\n",
    "    print(f\"Endpoint status: {status}\")\n",
    "    \n",
    "except Exception as e:\n",
    "    print(f\"Error: {e}\")"
   ]
  },
  {
   "cell_type": "markdown",
   "id": "b0db4e6c",
   "metadata": {},
   "source": [
    "## Testing the Deployed Endpoint for Inference\n"
   ]
  },
  {
   "cell_type": "code",
   "execution_count": null,
   "id": "64748d33",
   "metadata": {},
   "outputs": [],
   "source": [
    "import numpy as np\n",
    "import pandas as pd\n",
    "from sklearn.metrics import mean_squared_error, r2_score\n",
    "from sagemaker.serializers import CSVSerializer\n",
    "from sagemaker.deserializers import CSVDeserializer\n",
    "from sagemaker.predictor import Predictor\n",
    "\n",
    "# Configuration\n",
    "ENDPOINT_NAME = \"california-housing-estimator-moein-2\"\n",
    "TEST_DATA_FILE = \"data/california_housing_test.csv\"\n",
    "\n",
    "# Connect to the deployed SageMaker endpoint for inference\n",
    "predictor = Predictor(endpoint_name=ENDPOINT_NAME)\n",
    "\n",
    "# Set the serializer to convert input data (numpy arrays, pandas DataFrames) to CSV format for the endpoint\n",
    "predictor.serializer = CSVSerializer()\n",
    "\n",
    "# Set the deserializer to convert the CSV response from the endpoint back to Python objects (e.g., numpy arrays)\n",
    "predictor.deserializer = CSVDeserializer()"
   ]
  },
  {
   "cell_type": "code",
   "execution_count": null,
   "id": "3c06d1e8",
   "metadata": {},
   "outputs": [],
   "source": [
    "# Load and split test data into features and target variable\n",
    "test_df = pd.read_csv(TEST_DATA_FILE)\n",
    "X_test = test_df.drop(\"MedHouseVal\", axis=1)\n",
    "y_test = test_df[\"MedHouseVal\"]\n",
    "\n",
    "# Make predictions on entire test set\n",
    "predictions = predictor.predict(X_test.values)\n",
    "\n",
    "# Evaluate the model\n",
    "test_r2 = r2_score(y_test, predictions)\n",
    "test_rmse = np.sqrt(mean_squared_error(y_test, predictions))\n",
    "\n",
    "# Print the results\n",
    "print(f\"R² Score: {test_r2:.4f}\")\n",
    "print(f\"RMSE: {test_rmse:.4f}\")"
   ]
  }
 ],
 "metadata": {
  "language_info": {
   "name": "python"
  }
 },
 "nbformat": 4,
 "nbformat_minor": 5
}
