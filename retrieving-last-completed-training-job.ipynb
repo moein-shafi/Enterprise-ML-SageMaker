{
 "cells": [
  {
   "cell_type": "markdown",
   "id": "b290bde5",
   "metadata": {},
   "source": [
    "# Retrieving The Last Completed Training Job"
   ]
  },
  {
   "cell_type": "code",
   "execution_count": null,
   "id": "55a3e214",
   "metadata": {},
   "outputs": [],
   "source": [
    "import sagemaker\n",
    "\n",
    "# Create a SageMaker session\n",
    "sagemaker_session = sagemaker.Session()\n",
    "\n",
    "# List most recent completed training job\n",
    "training_jobs = sagemaker_session.sagemaker_client.list_training_jobs(\n",
    "    SortBy='CreationTime',                 # Sort jobs by creation time\n",
    "    SortOrder='Descending',                # Newest jobs first\n",
    "    StatusEquals='Completed',              # Only include completed jobs\n",
    "    NameContains='sagemaker-scikit-learn'  # Filter to jobs containing 'sagemaker-scikit-learn' in name\n",
    ")\n",
    "print(training_jobs)  # Display the list of training jobs\n"
   ]
  },
  {
   "cell_type": "code",
   "execution_count": null,
   "id": "ed2c44ab",
   "metadata": {},
   "outputs": [],
   "source": [
    "# Extract the name of the latest training job of the list\n",
    "TRAINING_JOB_NAME = training_jobs['TrainingJobSummaries'][0]['TrainingJobName']\n",
    "print(f\"Latest completed training job: {TRAINING_JOB_NAME}\")\n"
   ]
  },
  {
   "cell_type": "markdown",
   "id": "b885a7ec",
   "metadata": {},
   "source": [
    "# Reconnecting to a Training Job"
   ]
  },
  {
   "cell_type": "code",
   "execution_count": null,
   "id": "1208c17e",
   "metadata": {},
   "outputs": [],
   "source": [
    "from sagemaker.sklearn.estimator import SKLearn\n",
    "\n",
    "# Attach to the latest completed training job\n",
    "estimator = SKLearn.attach(TRAINING_JOB_NAME)\n",
    "print(f\"Attached to training job: {estimator.training_job_name}\")\n"
   ]
  },
  {
   "cell_type": "markdown",
   "id": "8b7ef354",
   "metadata": {},
   "source": [
    "# Getting the Model Location from the Estimator\n"
   ]
  },
  {
   "cell_type": "code",
   "execution_count": null,
   "id": "4169d09d",
   "metadata": {},
   "outputs": [],
   "source": [
    "# Get model S3 location from the estimator\n",
    "model_s3_uri = estimator.model_data\n",
    "print(f\"Model artifacts are located at: {model_s3_uri}\")\n"
   ]
  },
  {
   "cell_type": "markdown",
   "id": "0e375ffb",
   "metadata": {},
   "source": [
    "# Downloading Model Artifacts from S3\n"
   ]
  },
  {
   "cell_type": "code",
   "execution_count": null,
   "id": "59a3a380",
   "metadata": {},
   "outputs": [],
   "source": [
    "from sagemaker.s3 import S3Downloader\n",
    "\n",
    "# Download the model artifact from S3 using SageMaker's S3Downloader\n",
    "S3Downloader.download(model_s3_uri, \".\")\n"
   ]
  },
  {
   "cell_type": "markdown",
   "id": "f1fce4ce",
   "metadata": {},
   "source": [
    "# Extracting and Loading the Trained Model\n"
   ]
  },
  {
   "cell_type": "code",
   "execution_count": null,
   "id": "d668abae",
   "metadata": {},
   "outputs": [],
   "source": [
    "import tarfile\n",
    "import joblib\n",
    "\n",
    "# Extract model files from the downloaded tar.gz file\n",
    "with tarfile.open(\"model.tar.gz\", 'r:gz') as tar:\n",
    "    tar.extractall(\".\")\n",
    "\n",
    "# Load the trained model\n",
    "model = joblib.load(\"model.joblib\")\n",
    "print(\"Model loaded successfully.\")\n"
   ]
  },
  {
   "cell_type": "code",
   "execution_count": null,
   "id": "437245cd",
   "metadata": {},
   "outputs": [],
   "source": [
    "# Print the model's coefficients (coef_) and intercept (intercept_)\n",
    "print(\"Model Coefficients:\", model.coef_)\n",
    "print(\"Model Intercept:\", model.intercept_)\n"
   ]
  },
  {
   "cell_type": "markdown",
   "id": "c62b4ee0",
   "metadata": {},
   "source": [
    "# Preparing and Loading Test Data\n"
   ]
  },
  {
   "cell_type": "code",
   "execution_count": null,
   "id": "9a951f23",
   "metadata": {},
   "outputs": [],
   "source": [
    "import pandas as pd\n",
    "\n",
    "# Path to test data\n",
    "TEST_DATA_FILE = \"data/california_housing_test.csv\"\n",
    "\n",
    "# Load test data from CSV and separate features (X_test) from target variable (y_test)\n",
    "test_df = pd.read_csv(TEST_DATA_FILE)\n",
    "X_test = test_df.drop(\"MedHouseVal\", axis=1)\n",
    "y_test = test_df[\"MedHouseVal\"]\n",
    "print(\"Test data prepared successfully.\")\n"
   ]
  },
  {
   "cell_type": "markdown",
   "id": "896d1aaa",
   "metadata": {},
   "source": [
    "# Evaluating the Model's Performance\n"
   ]
  },
  {
   "cell_type": "code",
   "execution_count": null,
   "id": "61d62137",
   "metadata": {},
   "outputs": [],
   "source": [
    "import numpy as np\n",
    "from sklearn.metrics import mean_squared_error, r2_score\n",
    "\n",
    "# Make predictions on the test set\n",
    "y_pred = model.predict(X_test)\n",
    "\n",
    "# Evaluate the model's performance\n",
    "test_r2 = r2_score(y_test, y_pred)\n",
    "test_rmse = np.sqrt(mean_squared_error(y_test, y_pred))\n",
    "\n",
    "# Print evaluation metrics\n",
    "print(f\"R² Score: {test_r2:.4f}\")\n",
    "print(f\"RMSE: {test_rmse:.4f}\")\n",
    "print(\"Model evaluation completed.\")\n"
   ]
  },
  {
   "cell_type": "markdown",
   "id": "16d37658",
   "metadata": {},
   "source": [
    "# Testing the Model with a Single Sample\n"
   ]
  },
  {
   "cell_type": "code",
   "execution_count": null,
   "id": "b657e681",
   "metadata": {},
   "outputs": [],
   "source": [
    "# Sample DataFrame with feature values representing a single house\n",
    "sample = pd.DataFrame({\n",
    "    'MedInc': [4.8036],\n",
    "    'HouseAge': [4.0],\n",
    "    'AveRooms': [3.9246575342465753],\n",
    "    'AveBedrms': [1.0359589041095891],\n",
    "    'Population': [1050.0],\n",
    "    'AveOccup': [1.797945205479452],\n",
    "    'Latitude': [37.39],\n",
    "    'Longitude': [-122.08],\n",
    "    'RoomsPerHousehold': [2.182857142857143]\n",
    "})\n",
    "\n",
    "# Make prediction and convert to actual dollar amount (multiply by 100,000)\n",
    "prediction = model.predict(sample)\n",
    "print(f\"Predicted house value: ${prediction[0] * 100000:,.2f}\")\n"
   ]
  }
 ],
 "metadata": {
  "language_info": {
   "name": "python"
  }
 },
 "nbformat": 4,
 "nbformat_minor": 5
}
