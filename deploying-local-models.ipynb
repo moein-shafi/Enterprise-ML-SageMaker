{
 "cells": [
  {
   "cell_type": "markdown",
   "id": "00ae55ba",
   "metadata": {},
   "source": [
    "# Packaging Your Local Model for Deployment\n"
   ]
  },
  {
   "cell_type": "code",
   "execution_count": null,
   "id": "edb0b7b4",
   "metadata": {},
   "outputs": [],
   "source": [
    "import tarfile\n",
    "\n",
    "# Create model artifacts tar.gz file (SageMaker format)\n",
    "with tarfile.open('model.tar.gz', 'w:gz') as tar:\n",
    "    tar.add('trained_model.joblib')"
   ]
  },
  {
   "cell_type": "markdown",
   "id": "674a4ccd",
   "metadata": {},
   "source": [
    "# Uploading Model Artifacts to Amazon S3\n"
   ]
  },
  {
   "cell_type": "code",
   "execution_count": null,
   "id": "b77f8643",
   "metadata": {},
   "outputs": [],
   "source": [
    "import sagemaker\n",
    "\n",
    "# Create a SageMaker session\n",
    "sagemaker_session = sagemaker.Session()\n",
    "\n",
    "# Get the default bucket\n",
    "default_bucket = sagemaker_session.default_bucket()\n",
    "\n",
    "# Upload model to S3\n",
    "model_artifact_uri = sagemaker_session.upload_data(\n",
    "    path='model.tar.gz',\n",
    "    bucket=default_bucket,\n",
    "    key_prefix='models/local-trained'\n",
    ")\n",
    "\n",
    "# Print model artifacts URI\n",
    "print(f\"Model artifacts uploaded to: {model_artifact_uri}\")"
   ]
  },
  {
   "cell_type": "markdown",
   "id": "f6e51687",
   "metadata": {},
   "source": [
    "# Setting Up Configuration Variables\n"
   ]
  },
  {
   "cell_type": "code",
   "execution_count": null,
   "id": "f8bd2a2b",
   "metadata": {},
   "outputs": [],
   "source": [
    "# Get account id from the current AWS session\n",
    "account_id = sagemaker_session.boto_session.client('sts').get_caller_identity()['Account']\n",
    "\n",
    "# Define the SageMaker execution role ARN using the account id\n",
    "SAGEMAKER_ROLE = f\"arn:aws:iam::{account_id}:role/SageMakerDefaultExecution\"\n",
    "\n",
    "# Name for the SageMaker endpoint to be created\n",
    "ENDPOINT_NAME = \"california-housing-local-model-moein\""
   ]
  },
  {
   "cell_type": "markdown",
   "id": "adf0962f",
   "metadata": {},
   "source": [
    "# Creating the Entry Point Script\n",
    "\n",
    "model_fn function created in the entry_point.py file."
   ]
  },
  {
   "cell_type": "markdown",
   "id": "ca467bbd",
   "metadata": {},
   "source": [
    "# Creating the SageMaker Model Object\n"
   ]
  },
  {
   "cell_type": "code",
   "execution_count": null,
   "id": "b3ecd66f",
   "metadata": {},
   "outputs": [],
   "source": [
    "from sagemaker.sklearn.model import SKLearnModel\n",
    "\n",
    "# Create a SKLearnModel from local model artifacts\n",
    "model = SKLearnModel(\n",
    "    model_data=model_artifact_uri,       # S3 location of model.tar.gz\n",
    "    role=SAGEMAKER_ROLE,                 # IAM role for SageMaker\n",
    "    entry_point='entry_point.py',        # Inference script\n",
    "    framework_version='1.2-1',           # scikit-learn version\n",
    "    py_version='py3',                    # Python version\n",
    "    sagemaker_session=sagemaker_session  # SageMaker session\n",
    ")"
   ]
  },
  {
   "cell_type": "markdown",
   "id": "1efaf9dc",
   "metadata": {},
   "source": [
    "# Configuring Serverless Inference Settings\n"
   ]
  },
  {
   "cell_type": "code",
   "execution_count": null,
   "id": "db0f8f11",
   "metadata": {},
   "outputs": [],
   "source": [
    "from sagemaker.serverless import ServerlessInferenceConfig\n",
    "\n",
    "# Configure serverless inference\n",
    "serverless_config = ServerlessInferenceConfig(\n",
    "    memory_size_in_mb=2048,\n",
    "    max_concurrency=10\n",
    ")"
   ]
  },
  {
   "cell_type": "markdown",
   "id": "0e306169",
   "metadata": {},
   "source": [
    "# Deploying Your Model to a SageMaker Serverless Endpoint\n"
   ]
  },
  {
   "cell_type": "code",
   "execution_count": null,
   "id": "ead00bac",
   "metadata": {},
   "outputs": [],
   "source": [
    "# Deploy model as serverless endpoint asynchronously\n",
    "predictor = model.deploy(\n",
    "    serverless_inference_config=serverless_config,\n",
    "    endpoint_name=ENDPOINT_NAME,\n",
    "    wait=False\n",
    ")\n",
    "\n",
    "# Retrieve detailed information about the specified SageMaker endpoint\n",
    "endpoint_description = sagemaker_session.sagemaker_client.describe_endpoint(EndpointName=ENDPOINT_NAME)\n",
    "\n",
    "# Extract the current status of the endpoint from the response\n",
    "status = endpoint_description['EndpointStatus']\n",
    "\n",
    "# Display the endpoint's status\n",
    "print(f\"Endpoint status: {status}\")"
   ]
  },
  {
   "cell_type": "markdown",
   "id": "f8f60960",
   "metadata": {},
   "source": [
    "# Connecting to Your SageMaker Endpoint\n"
   ]
  },
  {
   "cell_type": "code",
   "execution_count": null,
   "id": "8056f7f5",
   "metadata": {},
   "outputs": [],
   "source": [
    "from sagemaker.predictor import Predictor\n",
    "\n",
    "# Connect to the deployed SageMaker endpoint for inference\n",
    "predictor = Predictor(endpoint_name=ENDPOINT_NAME)\n",
    "endpoint_context = predictor.endpoint_context()\n",
    "properties = endpoint_context.properties\n",
    "print(properties)"
   ]
  },
  {
   "cell_type": "markdown",
   "id": "6ff6afb4",
   "metadata": {},
   "source": [
    "# Configuring Data Serialization\n"
   ]
  },
  {
   "cell_type": "code",
   "execution_count": null,
   "id": "22124b72",
   "metadata": {},
   "outputs": [],
   "source": [
    "from sagemaker.serializers import CSVSerializer\n",
    "from sagemaker.deserializers import CSVDeserializer\n",
    "\n",
    "# Set the serializer to convert input data (numpy arrays, pandas DataFrames) to CSV format for the endpoint\n",
    "predictor.serializer = CSVSerializer()\n",
    "\n",
    "# Set the deserializer to convert the CSV response from the endpoint back to Python objects (e.g., numpy arrays)\n",
    "predictor.deserializer = CSVDeserializer()"
   ]
  },
  {
   "cell_type": "markdown",
   "id": "48764dc9",
   "metadata": {},
   "source": [
    "# Evaluating Model Performance\n"
   ]
  },
  {
   "cell_type": "code",
   "execution_count": null,
   "id": "80cd0d8a",
   "metadata": {},
   "outputs": [],
   "source": [
    "import pandas as pd\n",
    "import numpy as np\n",
    "from sklearn.metrics import mean_squared_error, r2_score\n",
    "\n",
    "# Path to local test dataset\n",
    "TEST_DATA_FILE = \"data/california_housing_test.csv\"\n",
    "\n",
    "# Load and split test data into features and target variable\n",
    "test_df = pd.read_csv(TEST_DATA_FILE)\n",
    "X_test = test_df.drop(\"MedHouseVal\", axis=1)\n",
    "y_test = test_df[\"MedHouseVal\"]\n",
    "\n",
    "# Make predictions on entire test set\n",
    "predictions = predictor.predict(X_test.values)\n",
    "\n",
    "# Evaluate the model\n",
    "test_r2 = r2_score(y_test, predictions)\n",
    "test_rmse = np.sqrt(mean_squared_error(y_test, predictions))\n",
    "\n",
    "# Print the results\n",
    "print(f\"R² Score: {test_r2:.4f}\")\n",
    "print(f\"RMSE: {test_rmse:.4f}\")"
   ]
  }
 ],
 "metadata": {
  "language_info": {
   "name": "python"
  }
 },
 "nbformat": 4,
 "nbformat_minor": 5
}
