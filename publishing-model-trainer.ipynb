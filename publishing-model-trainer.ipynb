{
 "cells": [
  {
   "cell_type": "markdown",
   "id": "8e57b6c5",
   "metadata": {},
   "source": [
    "# Publishing ModelTrainer Models to SageMaker Endpoints"
   ]
  },
  {
   "cell_type": "markdown",
   "id": "d746256d",
   "metadata": {},
   "source": [
    "## Finding the Latest ModelTrainer Job\n"
   ]
  },
  {
   "cell_type": "code",
   "execution_count": null,
   "id": "5543d522",
   "metadata": {},
   "outputs": [],
   "source": [
    "import sagemaker\n",
    "\n",
    "# Create a SageMaker session\n",
    "sagemaker_session = sagemaker.Session()\n",
    "\n",
    "# List most recent completed training job\n",
    "training_jobs = sagemaker_session.sagemaker_client.list_training_jobs(\n",
    "    SortBy='CreationTime',                 # Sort jobs by creation time\n",
    "    SortOrder='Descending',                # Newest jobs first\n",
    "    StatusEquals='Completed',              # Only include completed jobs\n",
    "    NameContains='sklearn-modeltrainer'    # Filter to ModelTrainer jobs\n",
    ")\n",
    "\n",
    "# Extract the name of the latest training job\n",
    "TRAINING_JOB_NAME = training_jobs['TrainingJobSummaries'][0]['TrainingJobName']"
   ]
  },
  {
   "cell_type": "markdown",
   "id": "9bb639f9",
   "metadata": {},
   "source": [
    "## Retrieving Model Artifacts from ModelTrainer Jobs\n"
   ]
  },
  {
   "cell_type": "code",
   "execution_count": null,
   "id": "2c624202",
   "metadata": {},
   "outputs": [],
   "source": [
    "# Get training job details\n",
    "training_job_details = sagemaker_session.describe_training_job(TRAINING_JOB_NAME)\n",
    "\n",
    "# Extract S3 location of model artifacts\n",
    "model_data = training_job_details['ModelArtifacts']['S3ModelArtifacts']\n",
    "\n",
    "print(\"Model Artifacts URI:\", model_data)\n"
   ]
  },
  {
   "cell_type": "markdown",
   "id": "8f12a2a3",
   "metadata": {},
   "source": [
    "## Entry Point Script for Inference\n",
    "\n",
    "Created in the entry_point.py file"
   ]
  },
  {
   "cell_type": "markdown",
   "id": "f3a5c7ad",
   "metadata": {},
   "source": [
    "## Creating the Model Object\n"
   ]
  },
  {
   "cell_type": "code",
   "execution_count": null,
   "id": "24c467e2",
   "metadata": {},
   "outputs": [],
   "source": [
    "from sagemaker.sklearn.model import SKLearnModel\n",
    "\n",
    "# Get account id and role\n",
    "account_id = sagemaker_session.boto_session.client('sts').get_caller_identity()['Account']\n",
    "SAGEMAKER_ROLE = f\"arn:aws:iam::{account_id}:role/SageMakerDefaultExecution\"\n",
    "\n",
    "# Create SKLearnModel using ModelTrainer artifacts\n",
    "model = SKLearnModel(\n",
    "    model_data=model_data,               # S3 location from ModelTrainer job\n",
    "    role=SAGEMAKER_ROLE,                 # IAM role for SageMaker\n",
    "    entry_point='entry_point.py',        # Inference script\n",
    "    framework_version='1.2-1',           # scikit-learn version\n",
    "    py_version='py3',                    # Python version\n",
    "    sagemaker_session=sagemaker_session  # SageMaker session\n",
    ")"
   ]
  },
  {
   "cell_type": "markdown",
   "id": "d30b4f8e",
   "metadata": {},
   "source": [
    "## Deploying to the Serverless Endpoint\n"
   ]
  },
  {
   "cell_type": "code",
   "execution_count": null,
   "id": "e6fa4390",
   "metadata": {},
   "outputs": [],
   "source": [
    "from sagemaker.serverless import ServerlessInferenceConfig\n",
    "\n",
    "# Unique name for the SageMaker endpoint to be created\n",
    "ENDPOINT_NAME = \"california-housing-modeltrainer\"\n",
    "\n",
    "# Configure serverless inference (same as previous lessons)\n",
    "serverless_config = ServerlessInferenceConfig(\n",
    "    memory_size_in_mb=2048,\n",
    "    max_concurrency=10\n",
    ")\n",
    "\n",
    "# Deploy as serverless endpoint asynchronously\n",
    "predictor = model.deploy(\n",
    "    serverless_inference_config=serverless_config,\n",
    "    endpoint_name=ENDPOINT_NAME,\n",
    "    wait=False\n",
    ")\n",
    "\n",
    "# Retrieve detailed information about the specified SageMaker endpoint\n",
    "endpoint_description = sagemaker_session.sagemaker_client.describe_endpoint(EndpointName=ENDPOINT_NAME)\n",
    "\n",
    "# Extract the current status of the endpoint from the response\n",
    "status = endpoint_description['EndpointStatus']\n",
    "\n",
    "# Display the endpoint's status\n",
    "print(f\"Endpoint status: {status}\")"
   ]
  }
 ],
 "metadata": {
  "language_info": {
   "name": "python"
  }
 },
 "nbformat": 4,
 "nbformat_minor": 5
}
