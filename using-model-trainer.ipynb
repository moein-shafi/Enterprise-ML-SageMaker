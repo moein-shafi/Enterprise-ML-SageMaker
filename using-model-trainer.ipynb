{
 "cells": [
  {
   "cell_type": "markdown",
   "id": "c8be2deb",
   "metadata": {},
   "source": [
    "# Environment Setup and Configuration\n"
   ]
  },
  {
   "cell_type": "code",
   "execution_count": null,
   "id": "a6548603",
   "metadata": {},
   "outputs": [],
   "source": [
    "import sagemaker\n",
    "\n",
    "# Create a SageMaker session\n",
    "sagemaker_session = sagemaker.Session()\n",
    "# Get the default S3 bucket\n",
    "default_bucket = sagemaker_session.default_bucket()\n",
    "# Retrieve the AWS account ID\n",
    "account_id = sagemaker_session.boto_session.client('sts').get_caller_identity()['Account']\n",
    "# Get the default AWS region where resources will be created\n",
    "region = sagemaker_session.boto_region_name"
   ]
  },
  {
   "cell_type": "markdown",
   "id": "f388d630",
   "metadata": {},
   "source": [
    "# Defining Configuration Constants\n"
   ]
  },
  {
   "cell_type": "code",
   "execution_count": null,
   "id": "01b33157",
   "metadata": {},
   "outputs": [],
   "source": [
    "# S3 URI for the training dataset\n",
    "S3_TRAIN_DATA_URI = f\"s3://{default_bucket}/datasets/california_housing_train.csv\"\n",
    "# IAM role ARN for SageMaker to access AWS resources\n",
    "SAGEMAKER_ROLE = f\"arn:aws:iam::{account_id}:role/SageMakerDefaultExecution\"\n",
    "# S3 path to store the trained model artifacts\n",
    "MODEL_OUTPUT_PATH = f\"s3://{default_bucket}/models/california-housing/\"\n",
    "# Type of EC2 instance to use for training\n",
    "INSTANCE_TYPE = \"ml.m5.large\"\n",
    "# Number of instances to use for the training job\n",
    "INSTANCE_COUNT = 1\n",
    "# Size (in GB) of the EBS volume attached to the training instance(s)\n",
    "VOLUME_SIZE_GB = 30"
   ]
  },
  {
   "cell_type": "markdown",
   "id": "8377643d",
   "metadata": {},
   "source": [
    "# Defining the Training Container Image\n"
   ]
  },
  {
   "cell_type": "code",
   "execution_count": null,
   "id": "b586ad05",
   "metadata": {},
   "outputs": [],
   "source": [
    "# Define the scikit-learn training image URI\n",
    "sklearn_image = sagemaker.image_uris.retrieve(\n",
    "    framework=\"sklearn\",         # Specify the ML framework (scikit-learn)\n",
    "    region=region,               # AWS region for the image\n",
    "    version=\"1.2-1\",             # scikit-learn version to use\n",
    "    py_version=\"py3\",            # Python version for the container\n",
    "    instance_type=INSTANCE_TYPE  # Instance type for compatibility (required by image_uris.retrieve)\n",
    ")\n",
    "print(\"Scikit-learn training image URI:\", sklearn_image)\n"
   ]
  },
  {
   "cell_type": "markdown",
   "id": "67953769",
   "metadata": {},
   "source": [
    "# Configuring Your Training Script\n"
   ]
  },
  {
   "cell_type": "code",
   "execution_count": null,
   "id": "c74b946e",
   "metadata": {},
   "outputs": [],
   "source": [
    "from sagemaker.modules.configs import SourceCode\n",
    "\n",
    "# Specify the source code configuration\n",
    "source_code = SourceCode(\n",
    "    source_dir=\".\",           # Directory containing the training script\n",
    "    entry_script=\"train.py\",  # The main script SageMaker will run for training\n",
    ")\n"
   ]
  },
  {
   "cell_type": "markdown",
   "id": "b51d3f2d",
   "metadata": {},
   "source": [
    "# Setting Up Compute Resources\n"
   ]
  },
  {
   "cell_type": "code",
   "execution_count": null,
   "id": "2f7d120b",
   "metadata": {},
   "outputs": [],
   "source": [
    "from sagemaker.modules.configs import Compute\n",
    "\n",
    "# Define the compute configuration for ModelTrainer\n",
    "compute_config = Compute(\n",
    "    instance_type=INSTANCE_TYPE,      # Type of EC2 instance to use for training\n",
    "    instance_count=INSTANCE_COUNT,    # Number of instances to launch for the training job\n",
    "    volume_size_in_gb=VOLUME_SIZE_GB  # Size (in GB) of the EBS volume attached to the instance\n",
    ")\n"
   ]
  },
  {
   "cell_type": "markdown",
   "id": "58d9bd5a",
   "metadata": {},
   "source": [
    "# Configuring Model Output Location\n"
   ]
  },
  {
   "cell_type": "code",
   "execution_count": null,
   "id": "bb824f0b",
   "metadata": {},
   "outputs": [],
   "source": [
    "from sagemaker.modules.configs import OutputDataConfig\n",
    "\n",
    "# Define the output data configuration for ModelTrainer\n",
    "output_config = OutputDataConfig(\n",
    "    s3_output_path=MODEL_OUTPUT_PATH\n",
    ")"
   ]
  },
  {
   "cell_type": "markdown",
   "id": "2ad0ae7a",
   "metadata": {},
   "source": [
    "# Creating the ModelTrainer Instance\n"
   ]
  },
  {
   "cell_type": "code",
   "execution_count": null,
   "id": "5b42fbdf",
   "metadata": {},
   "outputs": [],
   "source": [
    "from sagemaker.modules.train import ModelTrainer\n",
    "\n",
    "# Initialize the ModelTrainer with correct parameters\n",
    "model_trainer = ModelTrainer(\n",
    "    training_image=sklearn_image,         # Docker image URI for the scikit-learn training container\n",
    "    source_code=source_code,              # Source code configuration (directory and entry script)\n",
    "    base_job_name=\"sklearn-modeltrainer\", # Base name for the SageMaker training job\n",
    "    role=SAGEMAKER_ROLE,                  # IAM role for SageMaker to access AWS resources\n",
    "    compute=compute_config,               # Compute configuration (instance type, count, volume size)\n",
    "    output_data_config=output_config      # Output configuration (S3 path for model artifacts)\n",
    ")\n"
   ]
  },
  {
   "cell_type": "markdown",
   "id": "fd974cf2",
   "metadata": {},
   "source": [
    "# Defining Input Data Configuration\n"
   ]
  },
  {
   "cell_type": "code",
   "execution_count": null,
   "id": "6779cde9",
   "metadata": {},
   "outputs": [],
   "source": [
    "from sagemaker.modules.configs import InputData\n",
    "\n",
    "# Define the input data configuration\n",
    "input_data = [\n",
    "    InputData(\n",
    "        channel_name=\"train\",           # Name of the input channel for training data\n",
    "        data_source=S3_TRAIN_DATA_URI,  # S3 URI where the training data is stored\n",
    "    )\n",
    "]"
   ]
  },
  {
   "cell_type": "markdown",
   "id": "88f3059a",
   "metadata": {},
   "source": [
    "# Launching the Asynchronous Training Job\n"
   ]
  },
  {
   "cell_type": "code",
   "execution_count": null,
   "id": "bef2840d",
   "metadata": {},
   "outputs": [],
   "source": [
    "# Call train() to start the training job asynchronously (does not block)\n",
    "model_trainer.train(input_data_config=input_data, wait=False)"
   ]
  },
  {
   "cell_type": "markdown",
   "id": "1a33a502",
   "metadata": {},
   "source": [
    "# Retrieving Training Job Information\n"
   ]
  },
  {
   "cell_type": "code",
   "execution_count": null,
   "id": "1bddd03f",
   "metadata": {},
   "outputs": [],
   "source": [
    "# Access training job information\n",
    "latest_job = model_trainer._latest_training_job\n",
    "\n",
    "# Print the training job name and status\n",
    "print(f\"Training job name: {latest_job.training_job_name}\")\n",
    "print(f\"Training job status: {latest_job.training_job_status}\")"
   ]
  },
  {
   "cell_type": "markdown",
   "id": "d76bdd0c",
   "metadata": {},
   "source": [
    "# Retrieving Model Artifacts from Completed Jobs\n"
   ]
  },
  {
   "cell_type": "code",
   "execution_count": null,
   "id": "80c890d1",
   "metadata": {},
   "outputs": [],
   "source": [
    "# List most recent completed training job\n",
    "training_jobs = sagemaker_session.sagemaker_client.list_training_jobs(\n",
    "    SortBy='CreationTime',\n",
    "    SortOrder='Descending',\n",
    "    StatusEquals='Completed',\n",
    "    NameContains='sklearn-modeltrainer'  # Filter for ModelTrainer jobs\n",
    ")\n",
    "\n",
    "# Extract the name of the latest training job of the list\n",
    "TRAINING_JOB_NAME = training_jobs['TrainingJobSummaries'][0]['TrainingJobName']\n",
    "\n",
    "# Path to test data\n",
    "TEST_DATA_FILE = \"data/california_housing_test.csv\"\n",
    "\n",
    "# Since ModelTrainer doesn't have attach() method,\n",
    "# we use SageMaker Session to get training job details\n",
    "training_job_details = sagemaker_session.describe_training_job(TRAINING_JOB_NAME)\n",
    "    \n",
    "# Get model S3 location\n",
    "model_s3_uri = training_job_details['ModelArtifacts']['S3ModelArtifacts']"
   ]
  }
 ],
 "metadata": {
  "language_info": {
   "name": "python"
  }
 },
 "nbformat": 4,
 "nbformat_minor": 5
}
