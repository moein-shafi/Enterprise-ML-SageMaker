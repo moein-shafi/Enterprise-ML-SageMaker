{
 "cells": [
  {
   "cell_type": "code",
   "execution_count": null,
   "id": "85d6bc2f",
   "metadata": {},
   "outputs": [],
   "source": [
    "import sagemaker\n",
    "from sagemaker.sklearn.estimator import SKLearn\n",
    "\n",
    "# Initialize SageMaker session\n",
    "sagemaker_session = sagemaker.Session()\n",
    "\n",
    "# Get the default SageMaker bucket name\n",
    "default_bucket = sagemaker_session.default_bucket()\n",
    "\n",
    "print(f\"Default SageMaker bucket: {default_bucket}\")\n"
   ]
  },
  {
   "cell_type": "code",
   "execution_count": null,
   "id": "ea663676",
   "metadata": {},
   "outputs": [],
   "source": [
    "# S3 data URI where the training data is stored\n",
    "S3_TRAIN_DATA_URI = f\"s3://{default_bucket}/datasets/california_housing_train.csv\"\n",
    "\n",
    "# Custom output location for model artifacts\n",
    "MODEL_OUTPUT_PATH = f\"s3://{default_bucket}/models/california-housing/\"\n",
    "\n",
    "# Type of instance to use for training\n",
    "INSTANCE_TYPE = \"ml.m5.large\"\n",
    "# Number of instances to use for training\n",
    "INSTANCE_COUNT = 1\n",
    "\n",
    "# Get account ID\n",
    "account_id = sagemaker_session.boto_session.client('sts').get_caller_identity()['Account']\n",
    "# SageMaker execution role\n",
    "SAGEMAKER_ROLE = f\"arn:aws:iam::{account_id}:role/SageMakerDefaultExecution\"\n",
    "\n",
    "print(f\"SageMaker Role: {SAGEMAKER_ROLE}\")\n",
    "print(f\"Training data URI: {S3_TRAIN_DATA_URI}\")\n",
    "print(f\"Model output path: {MODEL_OUTPUT_PATH}\")\n",
    "print(f\"Instance type: {INSTANCE_TYPE}\")\n",
    "print(f\"Instance count: {INSTANCE_COUNT}\")\n",
    "print(f\"Account ID: {account_id}\")\n",
    "print(f\"SageMaker Role: {SAGEMAKER_ROLE}\")\n"
   ]
  },
  {
   "cell_type": "code",
   "execution_count": null,
   "id": "dc4bc2ad",
   "metadata": {},
   "outputs": [],
   "source": [
    "\n",
    "# Create SKLearn estimator\n",
    "sklearn_estimator = SKLearn(\n",
    "    entry_point='train.py',              # Python script containing training code\n",
    "    role=SAGEMAKER_ROLE,                 # IAM role for SageMaker to access AWS resources\n",
    "    instance_type=INSTANCE_TYPE,         # Type of EC2 instance for training\n",
    "    instance_count=INSTANCE_COUNT,       # Number of instances to use\n",
    "    framework_version='1.2-1',           # Version of scikit-learn to use\n",
    "    py_version='py3',                    # Python version for the training environment\n",
    "    script_mode=True,                    # Use script mode for training (vs legacy mode)\n",
    "    sagemaker_session=sagemaker_session, # Session for interacting with SageMaker\n",
    "    output_path=MODEL_OUTPUT_PATH        # S3 location to save model artifacts\n",
    ")\n",
    "\n",
    "print(f\"Model artifacts will be saved to: {sklearn_estimator.output_path}\")"
   ]
  },
  {
   "cell_type": "code",
   "execution_count": null,
   "id": "a3682718",
   "metadata": {},
   "outputs": [],
   "source": [
    "# This starts training and returns immediately\n",
    "sklearn_estimator.fit({'train': S3_TRAIN_DATA_URI}, wait=False)\n",
    "print(\"Training job started...\")"
   ]
  },
  {
   "cell_type": "code",
   "execution_count": null,
   "id": "9d2ebc63",
   "metadata": {},
   "outputs": [],
   "source": [
    "print(f\"Training data URI: {S3_TRAIN_DATA_URI}\")\n",
    "print(f\"Model output path: {MODEL_OUTPUT_PATH}\")\n",
    "print(f\"Training job name: {sklearn_estimator.latest_training_job.name}\")\n"
   ]
  },
  {
   "cell_type": "code",
   "execution_count": null,
   "id": "c3e7e62c",
   "metadata": {},
   "outputs": [],
   "source": [
    "# Get the current status directly from the estimator's training job object\n",
    "job_status = sklearn_estimator.latest_training_job.describe()['TrainingJobStatus']\n",
    "print(f\"Current training job status: {job_status}\")\n"
   ]
  },
  {
   "cell_type": "code",
   "execution_count": null,
   "id": "de1f50ac",
   "metadata": {},
   "outputs": [],
   "source": [
    "\n",
    "# Print the S3 location where the model artifacts will be saved (after job completes)\n",
    "print(f\"Model artifacts will be saved to: {sklearn_estimator.output_path}\")\n"
   ]
  }
 ],
 "metadata": {
  "language_info": {
   "name": "python"
  }
 },
 "nbformat": 4,
 "nbformat_minor": 5
}
